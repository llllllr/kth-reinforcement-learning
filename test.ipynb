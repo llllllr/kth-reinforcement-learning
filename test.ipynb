{
 "cells": [
  {
   "cell_type": "code",
   "execution_count": 16,
   "metadata": {},
   "outputs": [
    {
     "name": "stdout",
     "output_type": "stream",
     "text": [
      "(6,)\n",
      "(1, 3)\n"
     ]
    }
   ],
   "source": [
    "import numpy as np\n",
    "a = np.array([0.9, 0.9, 0.9 ])\n",
    "print(np.ones(6).shape)\n",
    "\n",
    "data = a.reshape((1, ) + a.shape)\n",
    "print(data.shape)"
   ]
  },
  {
   "cell_type": "code",
   "execution_count": 8,
   "metadata": {},
   "outputs": [
    {
     "name": "stdout",
     "output_type": "stream",
     "text": [
      "(-1, 6)\n"
     ]
    }
   ],
   "source": [
    "print((-1, )+ (6, ) )"
   ]
  },
  {
   "cell_type": "code",
   "execution_count": 3,
   "metadata": {},
   "outputs": [
    {
     "ename": "NameError",
     "evalue": "name 'np' is not defined",
     "output_type": "error",
     "traceback": [
      "\u001b[1;31m---------------------------------------------------------------------------\u001b[0m",
      "\u001b[1;31mNameError\u001b[0m                                 Traceback (most recent call last)",
      "Cell \u001b[1;32mIn[3], line 1\u001b[0m\n\u001b[1;32m----> 1\u001b[0m a \u001b[38;5;241m=\u001b[39m \u001b[43mnp\u001b[49m\u001b[38;5;241m.\u001b[39marray([\u001b[38;5;241m0.9\u001b[39m, \u001b[38;5;241m0.9\u001b[39m ])\n\u001b[0;32m      2\u001b[0m actions \u001b[38;5;241m=\u001b[39m np\u001b[38;5;241m.\u001b[39marray([\u001b[38;5;241m10\u001b[39m, \u001b[38;5;241m20\u001b[39m])\n\u001b[0;32m      3\u001b[0m \u001b[38;5;28mprint\u001b[39m(a\u001b[38;5;241m*\u001b[39mactions\u001b[38;5;241m.\u001b[39mmax(dim\u001b[38;5;241m=\u001b[39m\u001b[38;5;241m1\u001b[39m))\n",
      "\u001b[1;31mNameError\u001b[0m: name 'np' is not defined"
     ]
    }
   ],
   "source": [
    "a = np.array([0.9, 0.9 ])\n",
    "actions = np.array([10, 20])\n",
    "print(a*actions.max(dim=1))"
   ]
  },
  {
   "cell_type": "code",
   "execution_count": 6,
   "metadata": {},
   "outputs": [
    {
     "name": "stdout",
     "output_type": "stream",
     "text": [
      "madezhishiang [0.9 0.9], pingweismbuneg(2,)\n"
     ]
    }
   ],
   "source": [
    "print(f\"madezhishiang {a}, pingweismbuneg{a.shape}\")"
   ]
  },
  {
   "cell_type": "code",
   "execution_count": 18,
   "metadata": {},
   "outputs": [
    {
     "name": "stdout",
     "output_type": "stream",
     "text": [
      "floating point formatted: 34523.3242*\n",
      "\n",
      "Art:        444, Price per Unit: 543.63*"
     ]
    }
   ],
   "source": [
    "aa = 34523.32425\n",
    "print(f'floating point formatted: {aa:2.4f}', end='*')\n",
    "print('\\n')\n",
    "print(\"Art: %10d, Price per Unit:%8.2f\" %(444, 543.6254), end='*')"
   ]
  },
  {
   "cell_type": "code",
   "execution_count": 7,
   "metadata": {},
   "outputs": [
    {
     "name": "stdout",
     "output_type": "stream",
     "text": [
      "打印对a的导数: tensor([1.4000, 6.8000])\n",
      "tensor([0.5600, 4.0800], grad_fn=<MulBackward0>)\n",
      "tensor(19.7200, grad_fn=<MseLossBackward0>)\n"
     ]
    }
   ],
   "source": [
    "import torch\n",
    "x = torch.tensor([1.4, 6.8], requires_grad=True)\n",
    "a = torch.tensor([0.4, 0.6], requires_grad=True)\n",
    "\n",
    "F = a*x \n",
    "F.backward(gradient=torch.ones_like(F))  \n",
    "# 代表F是个tensor,我要对一个多维方程进行求导,指定我的y的维度\n",
    "F_scale = torch.multiply(a, x)\n",
    "\n",
    "\n",
    "print(f\"打印对a的导数: {a.grad}\")\n",
    "# 结果就是[1.4, 6.8] 但是实际上是 [ dF/da1 = (dF1/da1 + dF2/da1), dF/da2 = (dF1/da2 + dF2/da2)\n",
    "print(F_scale)\n",
    "loss = torch.nn.functional.mse_loss(x, a)  # 因为是mse, 所以就是一个标量\n",
    "print(loss)\n"
   ]
  },
  {
   "cell_type": "code",
   "execution_count": 17,
   "metadata": {},
   "outputs": [
    {
     "name": "stdout",
     "output_type": "stream",
     "text": [
      "tensor([1., 2., 3.])\n",
      "tensor([10.9222, 12.1767,  9.8881])\n"
     ]
    }
   ],
   "source": [
    "r = torch.randn([3,], requires_grad=True)  # 代表其他值对这个值的导数要被保留\n",
    "x = torch.tensor([1., 2., 3.], requires_grad=True)\n",
    "t = torch.tensor([11., 11., 11.], requires_grad=True)\n",
    "F = r*x + t*x  # 三维向量\n",
    "F.backward(gradient=torch.ones_like(F))   # backward代表这个F就是最终的loss, 从这个loss开始向后生成computational graphic, 一直计算到requires_grad的参数上.\n",
    "\n",
    "print(r.grad)\n",
    "print(x.grad) "
   ]
  },
  {
   "cell_type": "code",
   "execution_count": 11,
   "metadata": {},
   "outputs": [
    {
     "name": "stdout",
     "output_type": "stream",
     "text": [
      "tensor([nan, nan, nan, nan, nan, nan, nan, nan, nan, nan],\n",
      "       grad_fn=<ProdBackward1>)\n"
     ]
    }
   ],
   "source": [
    "import torch\n",
    "mean = torch.arange(10., 20., requires_grad=True)\n",
    "var = torch.arange(0., 1., 0.1 , requires_grad=True)\n",
    "# values = torch.normal(mean, var)\n",
    "def normal_pdf(x, mean, var):\n",
    "    pdf = 1 / torch.sqrt(2 * torch.pi * var) * torch.exp(-1/2 * (x - mean)**2 / var)\n",
    "    return pdf\n",
    "pi = normal_pdf(torch.randn(10, 1), mean, var)\n",
    "print(pi.prod(dim=1))\n",
    "# values.backward(gradient=torch.ones_like(values))\n",
    "# print(mean.grad)\n",
    "# print(var.grad)"
   ]
  },
  {
   "cell_type": "code",
   "execution_count": 14,
   "metadata": {},
   "outputs": [
    {
     "name": "stdout",
     "output_type": "stream",
     "text": [
      "tensor([0.0519, 0.0769])\n"
     ]
    }
   ],
   "source": [
    "mean = torch.tensor([2.54, 1.23])\n",
    "var = torch.tensor([0.35, 3.02])\n",
    "def normal_pdf(x, mean, var):\n",
    "    pdf = 1 / torch.sqrt(2 * torch.pi * var) * torch.exp(-1/2 * (x - mean)**2 / var)\n",
    "    return pdf\n",
    "\n",
    "pi = normal_pdf(torch.tensor([1.2, 3.8]), mean, var)\n",
    "print(pi)\n",
    "\n"
   ]
  },
  {
   "cell_type": "code",
   "execution_count": 23,
   "metadata": {},
   "outputs": [
    {
     "name": "stdout",
     "output_type": "stream",
     "text": [
      "[0.60242776 0.32515096 0.47935122]\n",
      "[0.50994032 0.56574342 0.51175941]\n"
     ]
    }
   ],
   "source": [
    "ran = np.random.rand(32,32,3)\n",
    "print(ran[0][0])\n",
    "ran2 = np.random.rand(3, 32, 32)\n",
    "print(ran2[:, 31, 31])\n"
   ]
  },
  {
   "cell_type": "code",
   "execution_count": 24,
   "metadata": {},
   "outputs": [
    {
     "name": "stdout",
     "output_type": "stream",
     "text": [
      "(3072,)\n"
     ]
    }
   ],
   "source": [
    "ran = np.random.rand(32,32,3)\n",
    "fl = ran.flatten()\n",
    "print(fl.shape)"
   ]
  },
  {
   "cell_type": "code",
   "execution_count": 31,
   "metadata": {},
   "outputs": [
    {
     "name": "stdout",
     "output_type": "stream",
     "text": [
      "tensor([5, 4, 3, 2, 1])\n",
      "tensor([1, 2, 3, 4, 5])\n"
     ]
    }
   ],
   "source": [
    "a = torch.tensor([1, 2, 3, 4, 5])\n",
    "ra = reversed(a)\n",
    "print(ra)\n",
    "print(a)"
   ]
  },
  {
   "cell_type": "code",
   "execution_count": 29,
   "metadata": {},
   "outputs": [
    {
     "name": "stdout",
     "output_type": "stream",
     "text": [
      "[5, 4, 3, 2, 1]\n",
      "[1, 2, 3, 4, 5]\n"
     ]
    }
   ],
   "source": [
    "g = [1, 2, 3, 4, 5]\n",
    "new = g[::-1]\n",
    "print(new)\n",
    "print(g)"
   ]
  },
  {
   "cell_type": "code",
   "execution_count": 13,
   "metadata": {},
   "outputs": [
    {
     "name": "stdout",
     "output_type": "stream",
     "text": [
      "tensor([1.9921, 2.2195, 2.2799])\n",
      "tensor([14, 20,  0])\n",
      "torch.Size([32])\n"
     ]
    }
   ],
   "source": [
    "import torch\n",
    "ran = torch.randn([32, 3])\n",
    "\n",
    "max_value, idx = torch.max(ran, 0)\n",
    "print(max_value)\n",
    "print(idx)\n",
    "print(ran.prod(dim=1).shape)"
   ]
  },
  {
   "cell_type": "code",
   "execution_count": 2,
   "metadata": {},
   "outputs": [
    {
     "name": "stdout",
     "output_type": "stream",
     "text": [
      "tensor([-1.7179,  1.1552,  0.9148])\n"
     ]
    }
   ],
   "source": [
    "import torch\n",
    "ran = torch.randn([32, 3])\n",
    "print(ran[-5, :])"
   ]
  },
  {
   "cell_type": "code",
   "execution_count": null,
   "metadata": {},
   "outputs": [],
   "source": []
  }
 ],
 "metadata": {
  "kernelspec": {
   "display_name": "rl",
   "language": "python",
   "name": "python3"
  },
  "language_info": {
   "codemirror_mode": {
    "name": "ipython",
    "version": 3
   },
   "file_extension": ".py",
   "mimetype": "text/x-python",
   "name": "python",
   "nbconvert_exporter": "python",
   "pygments_lexer": "ipython3",
   "version": "3.10.13"
  }
 },
 "nbformat": 4,
 "nbformat_minor": 2
}
