{
 "cells": [
  {
   "cell_type": "code",
   "execution_count": 16,
   "metadata": {},
   "outputs": [
    {
     "name": "stdout",
     "output_type": "stream",
     "text": [
      "(6,)\n",
      "(1, 3)\n"
     ]
    }
   ],
   "source": [
    "import numpy as np\n",
    "a = np.array([0.9, 0.9, 0.9 ])\n",
    "print(np.ones(6).shape)\n",
    "\n",
    "data = a.reshape((1, ) + a.shape)\n",
    "print(data.shape)"
   ]
  },
  {
   "cell_type": "code",
   "execution_count": 8,
   "metadata": {},
   "outputs": [
    {
     "name": "stdout",
     "output_type": "stream",
     "text": [
      "(-1, 6)\n"
     ]
    }
   ],
   "source": [
    "print((-1, )+ (6, ) )"
   ]
  },
  {
   "cell_type": "code",
   "execution_count": 3,
   "metadata": {},
   "outputs": [
    {
     "ename": "NameError",
     "evalue": "name 'np' is not defined",
     "output_type": "error",
     "traceback": [
      "\u001b[1;31m---------------------------------------------------------------------------\u001b[0m",
      "\u001b[1;31mNameError\u001b[0m                                 Traceback (most recent call last)",
      "Cell \u001b[1;32mIn[3], line 1\u001b[0m\n\u001b[1;32m----> 1\u001b[0m a \u001b[38;5;241m=\u001b[39m \u001b[43mnp\u001b[49m\u001b[38;5;241m.\u001b[39marray([\u001b[38;5;241m0.9\u001b[39m, \u001b[38;5;241m0.9\u001b[39m ])\n\u001b[0;32m      2\u001b[0m actions \u001b[38;5;241m=\u001b[39m np\u001b[38;5;241m.\u001b[39marray([\u001b[38;5;241m10\u001b[39m, \u001b[38;5;241m20\u001b[39m])\n\u001b[0;32m      3\u001b[0m \u001b[38;5;28mprint\u001b[39m(a\u001b[38;5;241m*\u001b[39mactions\u001b[38;5;241m.\u001b[39mmax(dim\u001b[38;5;241m=\u001b[39m\u001b[38;5;241m1\u001b[39m))\n",
      "\u001b[1;31mNameError\u001b[0m: name 'np' is not defined"
     ]
    }
   ],
   "source": [
    "a = np.array([0.9, 0.9 ])\n",
    "actions = np.array([10, 20])\n",
    "print(a*actions.max(dim=1))"
   ]
  },
  {
   "cell_type": "code",
   "execution_count": 6,
   "metadata": {},
   "outputs": [
    {
     "name": "stdout",
     "output_type": "stream",
     "text": [
      "madezhishiang [0.9 0.9], pingweismbuneg(2,)\n"
     ]
    }
   ],
   "source": [
    "print(f\"madezhishiang {a}, pingweismbuneg{a.shape}\")"
   ]
  },
  {
   "cell_type": "code",
   "execution_count": 18,
   "metadata": {},
   "outputs": [
    {
     "name": "stdout",
     "output_type": "stream",
     "text": [
      "floating point formatted: 34523.3242*\n",
      "\n",
      "Art:        444, Price per Unit: 543.63*"
     ]
    }
   ],
   "source": [
    "aa = 34523.32425\n",
    "print(f'floating point formatted: {aa:2.4f}', end='*')\n",
    "print('\\n')\n",
    "print(\"Art: %10d, Price per Unit:%8.2f\" %(444, 543.6254), end='*')"
   ]
  },
  {
   "cell_type": "code",
   "execution_count": 7,
   "metadata": {},
   "outputs": [
    {
     "name": "stdout",
     "output_type": "stream",
     "text": [
      "打印对a的导数: tensor([1.4000, 6.8000])\n",
      "tensor([0.5600, 4.0800], grad_fn=<MulBackward0>)\n",
      "tensor(19.7200, grad_fn=<MseLossBackward0>)\n"
     ]
    }
   ],
   "source": [
    "import torch\n",
    "x = torch.tensor([1.4, 6.8], requires_grad=True)\n",
    "a = torch.tensor([0.4, 0.6], requires_grad=True)\n",
    "\n",
    "F = a*x \n",
    "F.backward(gradient=torch.ones_like(F))  \n",
    "# 代表F是个tensor,我要对一个多维方程进行求导,指定我的y的维度\n",
    "F_scale = torch.multiply(a, x)\n",
    "\n",
    "\n",
    "print(f\"打印对a的导数: {a.grad}\")\n",
    "# 结果就是[1.4, 6.8] 但是实际上是 [ dF/da1 = (dF1/da1 + dF2/da1), dF/da2 = (dF1/da2 + dF2/da2)\n",
    "print(F_scale)\n",
    "loss = torch.nn.functional.mse_loss(x, a)  # 因为是mse, 所以就是一个标量\n",
    "print(loss)\n"
   ]
  },
  {
   "cell_type": "code",
   "execution_count": 17,
   "metadata": {},
   "outputs": [
    {
     "name": "stdout",
     "output_type": "stream",
     "text": [
      "tensor([1., 2., 3.])\n",
      "tensor([10.9222, 12.1767,  9.8881])\n"
     ]
    }
   ],
   "source": [
    "r = torch.randn([3,], requires_grad=True)  # 代表其他值对这个值的导数要被保留\n",
    "x = torch.tensor([1., 2., 3.], requires_grad=True)\n",
    "t = torch.tensor([11., 11., 11.], requires_grad=True)\n",
    "F = r*x + t*x  # 三维向量\n",
    "F.backward(gradient=torch.ones_like(F))   # backward代表这个F就是最终的loss, 从这个loss开始向后生成computational graphic, 一直计算到requires_grad的参数上.\n",
    "\n",
    "print(r.grad)\n",
    "print(x.grad) "
   ]
  },
  {
   "cell_type": "code",
   "execution_count": 11,
   "metadata": {},
   "outputs": [
    {
     "name": "stdout",
     "output_type": "stream",
     "text": [
      "tensor([nan, nan, nan, nan, nan, nan, nan, nan, nan, nan],\n",
      "       grad_fn=<ProdBackward1>)\n"
     ]
    }
   ],
   "source": [
    "import torch\n",
    "mean = torch.arange(10., 20., requires_grad=True)\n",
    "var = torch.arange(0., 1., 0.1 , requires_grad=True)\n",
    "# values = torch.normal(mean, var)\n",
    "def normal_pdf(x, mean, var):\n",
    "    pdf = 1 / torch.sqrt(2 * torch.pi * var) * torch.exp(-1/2 * (x - mean)**2 / var)\n",
    "    return pdf\n",
    "pi = normal_pdf(torch.randn(10, 1), mean, var)\n",
    "print(pi.prod(dim=1))\n",
    "# values.backward(gradient=torch.ones_like(values))\n",
    "# print(mean.grad)\n",
    "# print(var.grad)"
   ]
  },
  {
   "cell_type": "code",
   "execution_count": 14,
   "metadata": {},
   "outputs": [
    {
     "name": "stdout",
     "output_type": "stream",
     "text": [
      "tensor([0.0519, 0.0769])\n"
     ]
    }
   ],
   "source": [
    "mean = torch.tensor([2.54, 1.23])\n",
    "var = torch.tensor([0.35, 3.02])\n",
    "def normal_pdf(x, mean, var):\n",
    "    pdf = 1 / torch.sqrt(2 * torch.pi * var) * torch.exp(-1/2 * (x - mean)**2 / var)\n",
    "    return pdf\n",
    "\n",
    "pi = normal_pdf(torch.tensor([1.2, 3.8]), mean, var)\n",
    "print(pi)\n",
    "\n"
   ]
  },
  {
   "cell_type": "code",
   "execution_count": 23,
   "metadata": {},
   "outputs": [
    {
     "name": "stdout",
     "output_type": "stream",
     "text": [
      "[0.60242776 0.32515096 0.47935122]\n",
      "[0.50994032 0.56574342 0.51175941]\n"
     ]
    }
   ],
   "source": [
    "ran = np.random.rand(32,32,3)\n",
    "print(ran[0][0])\n",
    "ran2 = np.random.rand(3, 32, 32)\n",
    "print(ran2[:, 31, 31])\n"
   ]
  },
  {
   "cell_type": "code",
   "execution_count": 24,
   "metadata": {},
   "outputs": [
    {
     "name": "stdout",
     "output_type": "stream",
     "text": [
      "(3072,)\n"
     ]
    }
   ],
   "source": [
    "ran = np.random.rand(32,32,3)\n",
    "fl = ran.flatten()\n",
    "print(fl.shape)"
   ]
  },
  {
   "cell_type": "code",
   "execution_count": 31,
   "metadata": {},
   "outputs": [
    {
     "name": "stdout",
     "output_type": "stream",
     "text": [
      "tensor([5, 4, 3, 2, 1])\n",
      "tensor([1, 2, 3, 4, 5])\n"
     ]
    }
   ],
   "source": [
    "a = torch.tensor([1, 2, 3, 4, 5])\n",
    "ra = reversed(a)\n",
    "print(ra)\n",
    "print(a)"
   ]
  },
  {
   "cell_type": "code",
   "execution_count": 29,
   "metadata": {},
   "outputs": [
    {
     "name": "stdout",
     "output_type": "stream",
     "text": [
      "[5, 4, 3, 2, 1]\n",
      "[1, 2, 3, 4, 5]\n"
     ]
    }
   ],
   "source": [
    "g = [1, 2, 3, 4, 5]\n",
    "new = g[::-1]\n",
    "print(new)\n",
    "print(g)"
   ]
  },
  {
   "cell_type": "code",
   "execution_count": 13,
   "metadata": {},
   "outputs": [
    {
     "name": "stdout",
     "output_type": "stream",
     "text": [
      "tensor([1.9921, 2.2195, 2.2799])\n",
      "tensor([14, 20,  0])\n",
      "torch.Size([32])\n"
     ]
    }
   ],
   "source": [
    "import torch\n",
    "ran = torch.randn([32, 3])\n",
    "\n",
    "max_value, idx = torch.max(ran, 0)\n",
    "print(max_value)\n",
    "print(idx)\n",
    "print(ran.prod(dim=1).shape)"
   ]
  },
  {
   "cell_type": "code",
   "execution_count": 2,
   "metadata": {},
   "outputs": [
    {
     "name": "stdout",
     "output_type": "stream",
     "text": [
      "tensor([-1.7179,  1.1552,  0.9148])\n"
     ]
    }
   ],
   "source": [
    "import torch\n",
    "ran = torch.randn([32, 3])\n",
    "print(ran[-5, :])"
   ]
  },
  {
   "cell_type": "code",
   "execution_count": 8,
   "metadata": {},
   "outputs": [
    {
     "name": "stdout",
     "output_type": "stream",
     "text": [
      "[0.62364731 0.84380145 0.50587014 0.76244436 0.1352496  0.87651682\n",
      " 0.43154771 0.92874369 0.39175602 0.28556573 0.49369412 0.75711439\n",
      " 0.4661189  0.44004966 0.20991058 0.47331461 0.82734871 0.79490144\n",
      " 0.92522409 0.93598127 0.37985684 0.57786455 0.63323554 0.58366508\n",
      " 0.7903714  0.11299579 0.75304504 0.67871017 0.12256106 0.52259807]\n",
      "[ 1.  2.  3.  4.  5.  6.  7.  8.  9. 10. 10. 10. 10. 10. 10. 10. 10. 10.\n",
      " 10. 10. 10. 10. 10. 10. 10. 10. 10. 10. 10. 10. 10. 10. 10. 10. 10. 10.\n",
      " 10. 10. 10.]\n",
      "[0.62364731 1.46744876 1.9733189  2.73576326 2.87101286 3.74752968\n",
      " 4.17907739 5.10782108 5.4995771  5.78514283 5.65518964 5.56850258\n",
      " 5.52875134 5.20635664 5.28101762 4.87781541 5.27361641 5.13977416\n",
      " 5.67324223 6.32365777 6.20982049 6.03057065 6.19768729 6.34130271\n",
      " 6.92176353 6.56144471 6.48714104 6.37094977 5.56828673 5.15490354\n",
      " 4.7750467  4.19718215 3.56394661 2.98028153 2.18991013 2.07691434\n",
      " 1.3238693  0.64515913 0.52259807]\n",
      "39\n"
     ]
    }
   ],
   "source": [
    "import numpy as np\n",
    "data = np.random.rand(30)\n",
    "a = np.arange(1, 10)\n",
    "print(data)\n",
    "b = np.concatenate((a, 10*np.ones(len(data))))\n",
    "print(b)\n",
    "window = np.ones(10)\n",
    "conv = np.convolve(data, window)\n",
    "print(conv)\n",
    "print(len(conv))\n",
    "aver = ()\n"
   ]
  },
  {
   "cell_type": "code",
   "execution_count": 13,
   "metadata": {},
   "outputs": [
    {
     "name": "stdout",
     "output_type": "stream",
     "text": [
      "[0.91482936 0.65017162 0.79848609 0.65373296 0.11197057 0.16105479\n",
      " 0.24688579 0.9214287  0.28314188 0.593564   0.64941961 0.55273612\n",
      " 0.89606114 0.84707618 0.80773845 0.60816189 0.44668289 0.60600468\n",
      " 0.47958686 0.32083357 0.49065491 0.45264245 0.24836827 0.2381627\n",
      " 0.61107661 0.64349794 0.29795342 0.62931117 0.10673032 0.38531584]\n",
      "[ 1.  2.  3.  4.  5.  6.  7.  8.  9. 10. 10. 10. 10. 10. 10. 10. 10. 10.\n",
      " 10. 10. 10. 10. 10. 10. 10. 10. 10. 10. 10. 10. 10. 10. 10. 10. 10. 10.\n",
      " 10. 10. 10.]\n",
      "[0.91482936 1.56500099 2.36348708 3.01722004 3.1291906  3.29024539\n",
      " 3.53713118 4.45855988 4.74170176 5.33526576 5.069856   4.9724205\n",
      " 5.06999555 5.26333877 5.95910665 6.40621376 6.60601086 6.29058684\n",
      " 6.48703182 6.2143014  6.0555367  5.95544302 5.30775015 4.69883667\n",
      " 4.50217483 4.53751087 4.3887814  4.41208789 4.03923135 4.10371362\n",
      " 3.61305872 3.16041627 2.912048   2.6738853  2.06280869 1.41931076\n",
      " 1.12135734 0.49204617 0.38531584]\n",
      "39\n",
      "[0.91482936 0.78250049 0.78782903 0.75430501 0.62583812 0.54837423\n",
      " 0.50530445 0.55731998 0.52685575 0.53352658 0.5069856  0.49724205\n",
      " 0.50699955 0.52633388 0.59591066 0.64062138 0.66060109 0.62905868\n",
      " 0.64870318 0.62143014 0.60555367 0.5955443  0.53077501 0.46988367\n",
      " 0.45021748 0.45375109 0.43887814 0.44120879 0.40392314 0.41037136]\n",
      "30\n",
      "0.41037136228756943\n"
     ]
    }
   ],
   "source": [
    "import numpy as np\n",
    "data = np.random.rand(30)\n",
    "a = np.arange(1, 10)\n",
    "print(data)\n",
    "b = np.concatenate((a, 10*np.ones(len(data))))\n",
    "print(b)\n",
    "window = np.ones(10)\n",
    "conv = np.convolve(data, window)\n",
    "print(conv)\n",
    "print(len(conv))\n",
    "aver = (conv / b)[:-(10-1)]\n",
    "print(aver)\n",
    "print(len(aver))\n",
    "print(aver[-1])"
   ]
  },
  {
   "cell_type": "code",
   "execution_count": null,
   "metadata": {},
   "outputs": [],
   "source": []
  }
 ],
 "metadata": {
  "kernelspec": {
   "display_name": "rl",
   "language": "python",
   "name": "python3"
  },
  "language_info": {
   "codemirror_mode": {
    "name": "ipython",
    "version": 3
   },
   "file_extension": ".py",
   "mimetype": "text/x-python",
   "name": "python",
   "nbconvert_exporter": "python",
   "pygments_lexer": "ipython3",
   "version": "3.10.13"
  }
 },
 "nbformat": 4,
 "nbformat_minor": 2
}
